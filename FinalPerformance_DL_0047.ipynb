{
  "nbformat": 4,
  "nbformat_minor": 0,
  "metadata": {
    "colab": {
      "provenance": [],
      "gpuType": "T4"
    },
    "kernelspec": {
      "name": "python3",
      "display_name": "Python 3"
    },
    "language_info": {
      "name": "python"
    },
    "accelerator": "GPU"
  },
  "cells": [
    {
      "cell_type": "markdown",
      "source": [
        "**Cell 1: Import libraries and define initial variables**"
      ],
      "metadata": {
        "id": "FX1Wr3Dx0cLf"
      }
    },
    {
      "cell_type": "code",
      "execution_count": 22,
      "metadata": {
        "id": "k9QR17o7zrkZ"
      },
      "outputs": [],
      "source": [
        "import numpy as np\n",
        "import matplotlib.pyplot as plt\n",
        "\n",
        "# Given input activation\n",
        "A1 = np.array([[0.10]])\n",
        "\n",
        "# Initialize weights and biases for 4 hidden layers + output layer (5 layers total)\n",
        "W1 = np.array([[0.20]])  # Input to Hidden1\n",
        "b1 = np.array([[0.0]])\n",
        "\n",
        "W2 = np.array([[0.30]])  # Hidden1 to Hidden2\n",
        "b2 = np.array([[0.0]])\n",
        "\n",
        "W3 = np.array([[0.40]])  # Hidden2 to Hidden3\n",
        "b3 = np.array([[0.0]])\n",
        "\n",
        "W4 = np.array([[0.50]])  # Hidden3 to Output\n",
        "b4 = np.array([[0.0]])\n",
        "\n",
        "# Target output\n",
        "R = np.array([[0.01]])\n",
        "\n",
        "# Learning rate\n",
        "alpha = 0.5\n"
      ]
    },
    {
      "cell_type": "markdown",
      "source": [
        "**Cell 2: Define sigmoid function and its derivative**"
      ],
      "metadata": {
        "id": "idVjL62C0mbl"
      }
    },
    {
      "cell_type": "code",
      "source": [
        "def sigmoid(x):\n",
        "    return 1 / (1 + np.exp(-x))\n",
        "\n",
        "def sigmoid_derivative(x):\n",
        "    s = sigmoid(x)\n",
        "    return s * (1 - s)\n"
      ],
      "metadata": {
        "id": "BP8WHb2-0l41"
      },
      "execution_count": 23,
      "outputs": []
    },
    {
      "cell_type": "markdown",
      "source": [
        "**Cell 3: Set parameters for training and initialize error storage**"
      ],
      "metadata": {
        "id": "aV7ErhFi0u9c"
      }
    },
    {
      "cell_type": "code",
      "source": [
        "epochs = 2\n",
        "errors = np.zeros(epochs)\n"
      ],
      "metadata": {
        "id": "Cdl2IznH0vbs"
      },
      "execution_count": 24,
      "outputs": []
    },
    {
      "cell_type": "markdown",
      "source": [
        "**Cell 4: Training loop (forward pass, backpropagation, weight updates)**"
      ],
      "metadata": {
        "id": "K-uT85g80-aC"
      }
    },
    {
      "cell_type": "code",
      "source": [
        "for epoch in range(epochs):\n",
        "    print(f\"\\nEpoch {epoch + 1}:\")\n",
        "\n",
        "    # Forward pass\n",
        "    Z1 = np.dot(W1, A1) + b1\n",
        "    A2 = sigmoid(Z1)\n",
        "\n",
        "    Z2 = np.dot(W2, A2) + b2\n",
        "    A3 = sigmoid(Z2)\n",
        "\n",
        "    Z3 = np.dot(W3, A3) + b3\n",
        "    A4 = sigmoid(Z3)\n",
        "\n",
        "    Z4 = np.dot(W4, A4) + b4\n",
        "    A5 = sigmoid(Z4)\n",
        "\n",
        "    print(f\"Z1: {Z1}, A2: {A2}\")\n",
        "    print(f\"Z2: {Z2}, A3: {A3}\")\n",
        "    print(f\"Z3: {Z3}, A4: {A4}\")\n",
        "    print(f\"Z4: {Z4}, A5: {A5}\")\n",
        "\n",
        "    # Backpropagation\n",
        "    D4 = (A5 - R) * sigmoid_derivative(Z4)\n",
        "    D3 = np.dot(W4.T, D4) * sigmoid_derivative(Z3)\n",
        "    D2 = np.dot(W3.T, D3) * sigmoid_derivative(Z2)\n",
        "    D1 = np.dot(W2.T, D2) * sigmoid_derivative(Z1)\n",
        "\n",
        "    print(f\"D4: {D4}\")\n",
        "    print(f\"D3: {D3}\")\n",
        "    print(f\"D2: {D2}\")\n",
        "    print(f\"D1: {D1}\")\n",
        "\n",
        "    # Gradients\n",
        "    grad_W4 = np.dot(D4, A4.T)\n",
        "    grad_b4 = D4\n",
        "\n",
        "    grad_W3 = np.dot(D3, A3.T)\n",
        "    grad_b3 = D3\n",
        "\n",
        "    grad_W2 = np.dot(D2, A2.T)\n",
        "    grad_b2 = D2\n",
        "\n",
        "    grad_W1 = np.dot(D1, A1.T)\n",
        "    grad_b1 = D1\n",
        "\n",
        "    # Update weights and biases\n",
        "    W4 -= alpha * grad_W4\n",
        "    b4 -= alpha * grad_b4\n",
        "\n",
        "    W3 -= alpha * grad_W3\n",
        "    b3 -= alpha * grad_b3\n",
        "\n",
        "    W2 -= alpha * grad_W2\n",
        "    b2 -= alpha * grad_b2\n",
        "\n",
        "    W1 -= alpha * grad_W1\n",
        "    b1 -= alpha * grad_b1\n",
        "\n",
        "    # Store error\n",
        "    total_error = np.sum((A5 - R)**2)\n",
        "    errors[epoch] = total_error\n",
        "    print(f\"Total Error: {total_error}\")\n"
      ],
      "metadata": {
        "colab": {
          "base_uri": "https://localhost:8080/"
        },
        "id": "RCi4iZa87uLt",
        "outputId": "7d464a93-fd73-4e68-d62b-b7a28c27b741"
      },
      "execution_count": 26,
      "outputs": [
        {
          "output_type": "stream",
          "name": "stdout",
          "text": [
            "\n",
            "Epoch 1:\n",
            "Z1: [[0.01987973]], A2: [[0.50496977]]\n",
            "Z2: [[0.14949687]], A3: [[0.53730477]]\n",
            "Z3: [[0.1942144]], A4: [[0.54840156]]\n",
            "Z4: [[0.09832539]], A5: [[0.52456156]]\n",
            "D4: [[0.12832997]]\n",
            "D3: [[0.01352166]]\n",
            "D2: [[0.0013156]]\n",
            "D1: [[9.83964317e-05]]\n",
            "Total Error: 0.2647736026127926\n",
            "\n",
            "Epoch 2:\n",
            "Z1: [[0.01983004]], A2: [[0.50495735]]\n",
            "Z2: [[0.14866763]], A3: [[0.5370986]]\n",
            "Z3: [[0.1854218]], A4: [[0.54622309]]\n",
            "Z4: [[0.01401298]], A5: [[0.50350319]]\n",
            "D4: [[0.12336974]]\n",
            "D3: [[0.01193383]]\n",
            "D2: [[0.0011504]]\n",
            "D1: [[8.59455955e-05]]\n",
            "Total Error: 0.24354539639694467\n"
          ]
        }
      ]
    },
    {
      "cell_type": "markdown",
      "source": [
        "**Cell 5: Plot the total errors**"
      ],
      "metadata": {
        "id": "F6_In8MG1Eey"
      }
    },
    {
      "cell_type": "code",
      "source": [
        "plt.figure()\n",
        "plt.plot(range(1, epochs + 1), errors, '-o')\n",
        "plt.xlabel('Epochs')\n",
        "plt.ylabel('Total Error')\n",
        "plt.title('Total Error vs. Epochs')\n",
        "plt.grid(True)\n",
        "plt.show()\n"
      ],
      "metadata": {
        "colab": {
          "base_uri": "https://localhost:8080/",
          "height": 472
        },
        "id": "4ceuRMUf1E1z",
        "outputId": "178f721c-8360-4f6f-9ae9-41a63c9fed70"
      },
      "execution_count": 27,
      "outputs": [
        {
          "output_type": "display_data",
          "data": {
            "text/plain": [
              "<Figure size 640x480 with 1 Axes>"
            ],
            "image/png": "[encoded data removed]"
          },
          "metadata": {}
        }
      ]
    }
  ]
}